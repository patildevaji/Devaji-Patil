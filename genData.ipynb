{
  "nbformat": 4,
  "nbformat_minor": 0,
  "metadata": {
    "colab": {
      "provenance": [],
      "authorship_tag": "ABX9TyNeriX8u8LNl1alhbsmxCwU",
      "include_colab_link": true
    },
    "kernelspec": {
      "name": "python3",
      "display_name": "Python 3"
    },
    "language_info": {
      "name": "python"
    }
  },
  "cells": [
    {
      "cell_type": "markdown",
      "metadata": {
        "id": "view-in-github",
        "colab_type": "text"
      },
      "source": [
        "<a href=\"https://colab.research.google.com/github/patildevaji/Devaji-Patil/blob/master/genData.ipynb\" target=\"_parent\"><img src=\"https://colab.research.google.com/assets/colab-badge.svg\" alt=\"Open In Colab\"/></a>"
      ]
    },
    {
      "cell_type": "code",
      "execution_count": 1,
      "metadata": {
        "id": "cTOFl5dWpBnV"
      },
      "outputs": [],
      "source": [
        "import pandas as pd\n",
        "import random\n",
        "import json"
      ]
    },
    {
      "cell_type": "code",
      "source": [
        "subjects_pool = [\n",
        "    \"ENGINEERING PHYSICS\", \"ENGINEERING MATHEMATICS - I\", \"COMPUTER AIDED ENGINEERING AND DRAWING\",\n",
        "    \"ELEMENTS OF MECHANICAL ENGINEERING\", \"ELEMENTS OF CIVIL ENGINEERING\", \"ENVIRONMENTAL STUDIES\",\n",
        "    \"COMMUNICATIVE ENGLISH\", \"ENGINEERING PHYSICS LAB\", \"BASIC WORKSHOP AND SKILL DEVELOPMENT LAB\",\n",
        "    \"STATISTICAL- NUMERICAL – FOURIER TECHNIQUES\", \"DC MACHINES & TRANSFORMERS\", \"NETWORK ANALYSIS\",\n",
        "    \"ANALOG ELECTRONIC CIRCUITS\", \"LOGIC DESIGN\", \"LOGIC DESIGN LAB\", \"ELECTRICAL MEASUREMENTS LAB\",\n",
        "    \"ANALOG ELECTRONICS LAB\", \"SWITCHGEAR AND PROTECTION\", \"POWER SYSTEM ANALYSIS\", \"POWER ELECTRONICS\",\n",
        "    \"MICROCONTROLLER\", \"MODERN CONTROL THEORY\", \"DESIGN THINKING AND INNOVATION\", \"CONTROL SYSTEMS LAB\",\n",
        "    \"MICROCONTROLLER LAB\", \"ELECTRICAL MACHINE DESIGN & CAED LAB\", \"ELECTRICAL POWER UTILIZATION, ESTIMATION AND COSTING\",\n",
        "    \"HIGH VOLTAGE ENGINEERING\", \"COMMUNICATION IN POWER SYSTEMS\", \"TESTING AND COMMISSIONING OF ELECTRICAL EQUIPMENTS\",\n",
        "    \"SMART GRID\", \"SEMINAR ON PROJECT SYNOPSIS\", \"POWER SYSTEM SIMULATION LAB\", \"DATA ACQUISITION LAB\",\n",
        "    \"EMBEDDED SYSTEM LAB\", \"C PROGRAMMING CONCEPTS\", \"APPLIED CHEMISTRY\", \"ENGINEERING CHEMISTRY LAB\",\n",
        "    \"CONSTITUTION OF INDIA AND PROFESSIONAL ETHICS\", \"C PROGRAMMING LABORATORY\", \"BASIC ELECTRICAL AND ELECTRONICS LAB\",\n",
        "    \"BASIC ELECTRICAL ENGINEERING\", \"BASIC ELECTRONICS\", \"KANNADA\", \"INTEGRAL CALCULUS AND LAPLACE TRANSFORMS\",\n",
        "    \"ELECTRIC POWER GENERATION, TRANSMISSION AND DISTRIBUTION\", \"SYNCHRONOUS AND INDUCTION MACHINES\", \"CONTROL SYSTEMS\",\n",
        "    \"SIGNALS, SYSTEMS AND PROCESSING\", \"LINEAR IC’S & APPLICATIONS LABORATORY\", \"ELECTRICAL MACHINES LAB\",\n",
        "    \"SIGNALS, SYSTEMS AND PROCESSING LAB\", \"ELECTRONICS AND COMPUTER WORKSHOP\", \"PARTIAL DIFFERENTIAL EQUATIONS SAMPLING TECHNIQUES Z TRANSFORM\",\n",
        "    \"BIG DATA & HADOOP\", \"MANAGEMENT AND ENTREPRENEURSHIP\", \"COMPUTER TECHNIQUES IN POWER SYSTEMS\",\n",
        "    \"ELECTRIC DRIVES AND TRACTION\", \"ADVANCED C AND C++\", \"PROFESSIONAL ETHICS AND HUMAN VALUES\",\n",
        "    \"EMPLOYABILITY SKILLS\", \"POWER ELECTRONICS LAB\", \"ADVANCED C AND C++ LAB\", \"RELAY AND HIGH VOLTAGE LAB\",\n",
        "    \"PROJECT PHASE -3 (FINAL VIVA VOCE)\", \"PROJECT PHASE - 1\", \"MINOR PROJECT ON SOCIAL RESPONSIBILITY\",\n",
        "    \"INTELLECTUAL PROPERTY RIGHT AND CYBER LAW\", \"PROJECT PHASE - 2\", \"PROFESSIONAL CERTIFICATION - 1\",\n",
        "    \"INTERNSHIP\", \"PROFESSIONAL CERTIFICATION - 2\",\n",
        "]\n",
        "grades_pool = [\"S+\", \"S\", \"A\", \"B\", \"C\", \"D\", \"E\", \"F\"]\n",
        "grade_points = {\"S+\": 10, \"S\": 9, \"A\": 8, \"B\": 7, \"C\": 6, \"D\": 5, \"E\": 4, \"F\": 0}\n",
        "\n",
        "def generate_student_data(num_students):\n",
        "    students = []\n",
        "    for i in range(num_students):\n",
        "        student = {\n",
        "            \"Name\": f\"Student {i+1}\",\n",
        "            \"USN\": f\"2GI{i:06d}\",\n",
        "            \"Year of Admission\": random.choice([2016, 2017, 2018, 2019]),\n",
        "            \"CGPA\": round(random.uniform(4.0, 10.0), 2),\n",
        "            \"Subjects\": {},\n",
        "            \"Percentage\": \"\",\n",
        "            \"Class of Degree\": \"\"\n",
        "        }\n",
        "\n",
        "        num_subjects = random.randint(5, 10)\n",
        "        subjects = random.sample(subjects_pool, num_subjects)\n",
        "        for subject in subjects:\n",
        "            grade = random.choice(grades_pool)\n",
        "            student[\"Subjects\"][subject] = grade\n",
        "\n",
        "        # Calculate Percentage and Class of Degree\n",
        "        total_credits = sum([4 for _ in student[\"Subjects\"]])  # Assuming each subject has 4 credits\n",
        "        total_grade_points = sum([grade_points[grade] * 4 for grade in student[\"Subjects\"].values()])\n",
        "        student[\"CGPA\"] = round(total_grade_points / total_credits, 2)\n",
        "        student[\"Percentage\"] = round((student[\"CGPA\"] - 0.75) * 10, 2)\n",
        "\n",
        "        if student[\"CGPA\"] >= 7.75:\n",
        "            student[\"Class of Degree\"] = \"First Class with Distinction\"\n",
        "        elif student[\"CGPA\"] >= 6.75:\n",
        "            student[\"Class of Degree\"] = \"First Class\"\n",
        "        elif student[\"CGPA\"] >= 5.75:\n",
        "            student[\"Class of Degree\"] = \"Second Class\"\n",
        "        else:\n",
        "            student[\"Class of Degree\"] = \"Pass\"\n",
        "\n",
        "        students.append(student)\n",
        "\n",
        "    return students\n",
        "\n",
        "# Generate data for 1000 students\n",
        "students_data = generate_student_data(1000)\n",
        "\n",
        "# Convert to DataFrame and save as CSV\n",
        "df = pd.DataFrame(students_data)\n",
        "df.to_csv(\"students_transcripts.csv\", index=False)\n",
        "\n",
        "# Save as JSON\n",
        "with open(\"students_transcripts.json\", \"w\") as json_file:\n",
        "    json.dump(students_data, json_file, indent=4)\n"
      ],
      "metadata": {
        "id": "MxahGeyjpPwL"
      },
      "execution_count": 2,
      "outputs": []
    },
    {
      "cell_type": "code",
      "source": [
        "from google.colab import files\n",
        "\n",
        "# Download CSV file\n",
        "files.download('students_transcripts.csv')\n",
        "\n",
        "# Download JSON file\n",
        "files.download('students_transcripts.json')\n"
      ],
      "metadata": {
        "colab": {
          "base_uri": "https://localhost:8080/",
          "height": 17
        },
        "id": "KSvXKECDpt8V",
        "outputId": "9b97f1d0-18c6-474e-d3c0-3219b2f75585"
      },
      "execution_count": 3,
      "outputs": [
        {
          "output_type": "display_data",
          "data": {
            "text/plain": [
              "<IPython.core.display.Javascript object>"
            ],
            "application/javascript": [
              "\n",
              "    async function download(id, filename, size) {\n",
              "      if (!google.colab.kernel.accessAllowed) {\n",
              "        return;\n",
              "      }\n",
              "      const div = document.createElement('div');\n",
              "      const label = document.createElement('label');\n",
              "      label.textContent = `Downloading \"${filename}\": `;\n",
              "      div.appendChild(label);\n",
              "      const progress = document.createElement('progress');\n",
              "      progress.max = size;\n",
              "      div.appendChild(progress);\n",
              "      document.body.appendChild(div);\n",
              "\n",
              "      const buffers = [];\n",
              "      let downloaded = 0;\n",
              "\n",
              "      const channel = await google.colab.kernel.comms.open(id);\n",
              "      // Send a message to notify the kernel that we're ready.\n",
              "      channel.send({})\n",
              "\n",
              "      for await (const message of channel.messages) {\n",
              "        // Send a message to notify the kernel that we're ready.\n",
              "        channel.send({})\n",
              "        if (message.buffers) {\n",
              "          for (const buffer of message.buffers) {\n",
              "            buffers.push(buffer);\n",
              "            downloaded += buffer.byteLength;\n",
              "            progress.value = downloaded;\n",
              "          }\n",
              "        }\n",
              "      }\n",
              "      const blob = new Blob(buffers, {type: 'application/binary'});\n",
              "      const a = document.createElement('a');\n",
              "      a.href = window.URL.createObjectURL(blob);\n",
              "      a.download = filename;\n",
              "      div.appendChild(a);\n",
              "      a.click();\n",
              "      div.remove();\n",
              "    }\n",
              "  "
            ]
          },
          "metadata": {}
        },
        {
          "output_type": "display_data",
          "data": {
            "text/plain": [
              "<IPython.core.display.Javascript object>"
            ],
            "application/javascript": [
              "download(\"download_4c227369-5836-44ec-938d-f173ccac98b6\", \"students_transcripts.csv\", 325291)"
            ]
          },
          "metadata": {}
        },
        {
          "output_type": "display_data",
          "data": {
            "text/plain": [
              "<IPython.core.display.Javascript object>"
            ],
            "application/javascript": [
              "\n",
              "    async function download(id, filename, size) {\n",
              "      if (!google.colab.kernel.accessAllowed) {\n",
              "        return;\n",
              "      }\n",
              "      const div = document.createElement('div');\n",
              "      const label = document.createElement('label');\n",
              "      label.textContent = `Downloading \"${filename}\": `;\n",
              "      div.appendChild(label);\n",
              "      const progress = document.createElement('progress');\n",
              "      progress.max = size;\n",
              "      div.appendChild(progress);\n",
              "      document.body.appendChild(div);\n",
              "\n",
              "      const buffers = [];\n",
              "      let downloaded = 0;\n",
              "\n",
              "      const channel = await google.colab.kernel.comms.open(id);\n",
              "      // Send a message to notify the kernel that we're ready.\n",
              "      channel.send({})\n",
              "\n",
              "      for await (const message of channel.messages) {\n",
              "        // Send a message to notify the kernel that we're ready.\n",
              "        channel.send({})\n",
              "        if (message.buffers) {\n",
              "          for (const buffer of message.buffers) {\n",
              "            buffers.push(buffer);\n",
              "            downloaded += buffer.byteLength;\n",
              "            progress.value = downloaded;\n",
              "          }\n",
              "        }\n",
              "      }\n",
              "      const blob = new Blob(buffers, {type: 'application/binary'});\n",
              "      const a = document.createElement('a');\n",
              "      a.href = window.URL.createObjectURL(blob);\n",
              "      a.download = filename;\n",
              "      div.appendChild(a);\n",
              "      a.click();\n",
              "      div.remove();\n",
              "    }\n",
              "  "
            ]
          },
          "metadata": {}
        },
        {
          "output_type": "display_data",
          "data": {
            "text/plain": [
              "<IPython.core.display.Javascript object>"
            ],
            "application/javascript": [
              "download(\"download_232a4f82-f81a-4fb2-8bf9-64f0cb00ab6d\", \"students_transcripts.json\", 594185)"
            ]
          },
          "metadata": {}
        }
      ]
    },
    {
      "cell_type": "code",
      "source": [],
      "metadata": {
        "id": "Ost2uRKGsinB"
      },
      "execution_count": null,
      "outputs": []
    },
    {
      "cell_type": "code",
      "source": [
        "\n",
        "subjects_pool = [\n",
        "    \"ENGINEERING PHYSICS\", \"ENGINEERING MATHEMATICS - I\", \"COMPUTER AIDED ENGINEERING AND DRAWING\",\n",
        "    \"ELEMENTS OF MECHANICAL ENGINEERING\", \"ELEMENTS OF CIVIL ENGINEERING\", \"ENVIRONMENTAL STUDIES\",\n",
        "    \"COMMUNICATIVE ENGLISH\", \"ENGINEERING PHYSICS LAB\", \"BASIC WORKSHOP AND SKILL DEVELOPMENT LAB\",\n",
        "    \"STATISTICAL- NUMERICAL – FOURIER TECHNIQUES\", \"DC MACHINES & TRANSFORMERS\", \"NETWORK ANALYSIS\",\n",
        "    \"ANALOG ELECTRONIC CIRCUITS\", \"LOGIC DESIGN\", \"LOGIC DESIGN LAB\", \"ELECTRICAL MEASUREMENTS LAB\",\n",
        "    \"ANALOG ELECTRONICS LAB\", \"SWITCHGEAR AND PROTECTION\", \"POWER SYSTEM ANALYSIS\", \"POWER ELECTRONICS\",\n",
        "    \"MICROCONTROLLER\", \"MODERN CONTROL THEORY\", \"DESIGN THINKING AND INNOVATION\", \"CONTROL SYSTEMS LAB\",\n",
        "    \"MICROCONTROLLER LAB\", \"ELECTRICAL MACHINE DESIGN & CAED LAB\", \"ELECTRICAL POWER UTILIZATION, ESTIMATION AND COSTING\",\n",
        "    \"HIGH VOLTAGE ENGINEERING\", \"COMMUNICATION IN POWER SYSTEMS\", \"TESTING AND COMMISSIONING OF ELECTRICAL EQUIPMENTS\",\n",
        "    \"SMART GRID\", \"SEMINAR ON PROJECT SYNOPSIS\", \"POWER SYSTEM SIMULATION LAB\", \"DATA ACQUISITION LAB\",\n",
        "    \"EMBEDDED SYSTEM LAB\", \"C PROGRAMMING CONCEPTS\", \"APPLIED CHEMISTRY\", \"ENGINEERING CHEMISTRY LAB\",\n",
        "    \"CONSTITUTION OF INDIA AND PROFESSIONAL ETHICS\", \"C PROGRAMMING LABORATORY\", \"BASIC ELECTRICAL AND ELECTRONICS LAB\",\n",
        "    \"BASIC ELECTRICAL ENGINEERING\", \"BASIC ELECTRONICS\", \"KANNADA\", \"INTEGRAL CALCULUS AND LAPLACE TRANSFORMS\",\n",
        "    \"ELECTRIC POWER GENERATION, TRANSMISSION AND DISTRIBUTION\", \"SYNCHRONOUS AND INDUCTION MACHINES\", \"CONTROL SYSTEMS\",\n",
        "    \"SIGNALS, SYSTEMS AND PROCESSING\", \"LINEAR IC’S & APPLICATIONS LABORATORY\", \"ELECTRICAL MACHINES LAB\",\n",
        "    \"SIGNALS, SYSTEMS AND PROCESSING LAB\", \"ELECTRONICS AND COMPUTER WORKSHOP\", \"PARTIAL DIFFERENTIAL EQUATIONS SAMPLING TECHNIQUES Z TRANSFORM\",\n",
        "    \"BIG DATA & HADOOP\", \"MANAGEMENT AND ENTREPRENEURSHIP\", \"COMPUTER TECHNIQUES IN POWER SYSTEMS\",\n",
        "    \"ELECTRIC DRIVES AND TRACTION\", \"ADVANCED C AND C++\", \"PROFESSIONAL ETHICS AND HUMAN VALUES\",\n",
        "    \"EMPLOYABILITY SKILLS\", \"POWER ELECTRONICS LAB\", \"ADVANCED C AND C++ LAB\", \"RELAY AND HIGH VOLTAGE LAB\",\n",
        "    \"PROJECT PHASE -3 (FINAL VIVA VOCE)\", \"PROJECT PHASE - 1\", \"MINOR PROJECT ON SOCIAL RESPONSIBILITY\",\n",
        "    \"INTELLECTUAL PROPERTY RIGHT AND CYBER LAW\", \"PROJECT PHASE - 2\", \"PROFESSIONAL CERTIFICATION - 1\",\n",
        "    \"INTERNSHIP\", \"PROFESSIONAL CERTIFICATION - 2\"\n",
        "]\n",
        "grades_pool = [\"S+\", \"S\", \"A\", \"B\", \"C\", \"D\", \"E\", \"F\"]\n",
        "grade_points = {\"S+\": 10, \"S\": 9, \"A\": 8, \"B\": 7, \"C\": 6, \"D\": 5, \"E\": 4, \"F\": 0}\n",
        "credits_pool = [3, 4]\n",
        "\n",
        "# Sample names\n",
        "first_names = [\"John\", \"Jane\", \"Alice\", \"Bob\", \"Charlie\", \"Daisy\", \"Eve\", \"Frank\", \"Grace\", \"Hank\",\"Daniel\",\"Jonas\",\"Rose\",\"Akshay\",\"Amar\",\"Bhumika\",\n",
        "               \"Chandrika\",\"Dhanush\",\"Ekta\",\"Falguni\",\"Hritik\",\"Ingel\",\"Josh\",\"Kalyani\",\"Latika\",\"Mahesh\",\"Nagarjun\",\"Omkar\",\"Prajwal\",\"Rajat\",\"Shashank\",\n",
        "               \"Sakshi\",\"Sukum\",\"Tridev\",\"Umar\",\"Varun\",\"Vicky\",\"Vikram\",\"Vivek\",\"Binod\",\"Mark\",\"Xavior\",\"Chinmay\",\"Divya\",\"Niharika\"]\n",
        "last_names = [\"Smith\", \"Johnson\", \"Williams\", \"Brown\", \"Jones\", \"Miller\", \"Davis\", \"Garcia\", \"Rodriguez\", \"Wilson\",\"Patil\",\"Kamble\",\"Patel\",\"Jadhav\",\n",
        "              \"Mohammed\",\"Patak\",\"Bayer\",\"Mishra\",\"Yilmaz\",\"Josh\",\"Souza\",\"Kesnar\",\"Siemens\",\"Bosch\",\"Benz\"]\n",
        "\n",
        "def generate_student_data(num_students):\n",
        "    students = []\n",
        "    for i in range(num_students):\n",
        "        name = f\"{random.choice(first_names)} {random.choice(last_names)}\"\n",
        "        usn = f\"2GI{i:06d}\"\n",
        "        year_of_admission = random.choice([2016, 2017, 2018, 2019, 2024])\n",
        "\n",
        "        student = {\n",
        "            \"Name\": name,\n",
        "            \"USN\": usn,\n",
        "            \"Year of Admission\": year_of_admission,\n",
        "        }\n",
        "\n",
        "        total_credits = 0\n",
        "        total_grade_points = 0\n",
        "\n",
        "        for j, subject in enumerate(subjects_pool, 1):\n",
        "            grade = random.choice(grades_pool)\n",
        "            credits = random.choice(credits_pool)\n",
        "            student[f\"Subject {j}\"] = subject\n",
        "            student[f\"Grade {j}\"] = grade\n",
        "            student[f\"Credits {j}\"] = credits\n",
        "\n",
        "            total_credits += credits\n",
        "            total_grade_points += grade_points[grade] * credits\n",
        "\n",
        "            if total_credits >= 200:\n",
        "                break\n",
        "\n",
        "        cgpa = round(total_grade_points / total_credits, 2)\n",
        "        percentage = round((cgpa - 0.75) * 10, 2)\n",
        "\n",
        "        student[\"CGPA\"] = cgpa\n",
        "        student[\"Total Credits\"] = total_credits\n",
        "        student[\"Percentage\"] = percentage\n",
        "\n",
        "        students.append(student)\n",
        "\n",
        "    return students\n",
        "\n",
        "# Generate data for 1000 students\n",
        "students_data = generate_student_data(1000)\n",
        "\n",
        "# Convert to DataFrame and save as CSV\n",
        "df = pd.DataFrame(students_data)\n",
        "df.to_csv(\"students_transcripts.csv\", index=False)\n",
        "\n",
        "# Save as JSON\n",
        "with open(\"students_transcripts.json\", \"w\") as json_file:\n",
        "    json.dump(students_data, json_file, indent=4)\n"
      ],
      "metadata": {
        "id": "_KT0gVxIqrSS"
      },
      "execution_count": 8,
      "outputs": []
    },
    {
      "cell_type": "code",
      "source": [
        "from google.colab import files\n",
        "\n",
        "# Download CSV file\n",
        "files.download('students_transcripts.csv')\n",
        "\n",
        "# Download JSON file\n",
        "files.download('students_transcripts.json')"
      ],
      "metadata": {
        "colab": {
          "base_uri": "https://localhost:8080/",
          "height": 17
        },
        "id": "AyBgZzA9sjkt",
        "outputId": "57983ca8-70d6-476e-80e0-0469e2ee8adc"
      },
      "execution_count": 9,
      "outputs": [
        {
          "output_type": "display_data",
          "data": {
            "text/plain": [
              "<IPython.core.display.Javascript object>"
            ],
            "application/javascript": [
              "\n",
              "    async function download(id, filename, size) {\n",
              "      if (!google.colab.kernel.accessAllowed) {\n",
              "        return;\n",
              "      }\n",
              "      const div = document.createElement('div');\n",
              "      const label = document.createElement('label');\n",
              "      label.textContent = `Downloading \"${filename}\": `;\n",
              "      div.appendChild(label);\n",
              "      const progress = document.createElement('progress');\n",
              "      progress.max = size;\n",
              "      div.appendChild(progress);\n",
              "      document.body.appendChild(div);\n",
              "\n",
              "      const buffers = [];\n",
              "      let downloaded = 0;\n",
              "\n",
              "      const channel = await google.colab.kernel.comms.open(id);\n",
              "      // Send a message to notify the kernel that we're ready.\n",
              "      channel.send({})\n",
              "\n",
              "      for await (const message of channel.messages) {\n",
              "        // Send a message to notify the kernel that we're ready.\n",
              "        channel.send({})\n",
              "        if (message.buffers) {\n",
              "          for (const buffer of message.buffers) {\n",
              "            buffers.push(buffer);\n",
              "            downloaded += buffer.byteLength;\n",
              "            progress.value = downloaded;\n",
              "          }\n",
              "        }\n",
              "      }\n",
              "      const blob = new Blob(buffers, {type: 'application/binary'});\n",
              "      const a = document.createElement('a');\n",
              "      a.href = window.URL.createObjectURL(blob);\n",
              "      a.download = filename;\n",
              "      div.appendChild(a);\n",
              "      a.click();\n",
              "      div.remove();\n",
              "    }\n",
              "  "
            ]
          },
          "metadata": {}
        },
        {
          "output_type": "display_data",
          "data": {
            "text/plain": [
              "<IPython.core.display.Javascript object>"
            ],
            "application/javascript": [
              "download(\"download_59c6e994-d1f7-42f8-b216-432dac20b1ab\", \"students_transcripts.csv\", 1951974)"
            ]
          },
          "metadata": {}
        },
        {
          "output_type": "display_data",
          "data": {
            "text/plain": [
              "<IPython.core.display.Javascript object>"
            ],
            "application/javascript": [
              "\n",
              "    async function download(id, filename, size) {\n",
              "      if (!google.colab.kernel.accessAllowed) {\n",
              "        return;\n",
              "      }\n",
              "      const div = document.createElement('div');\n",
              "      const label = document.createElement('label');\n",
              "      label.textContent = `Downloading \"${filename}\": `;\n",
              "      div.appendChild(label);\n",
              "      const progress = document.createElement('progress');\n",
              "      progress.max = size;\n",
              "      div.appendChild(progress);\n",
              "      document.body.appendChild(div);\n",
              "\n",
              "      const buffers = [];\n",
              "      let downloaded = 0;\n",
              "\n",
              "      const channel = await google.colab.kernel.comms.open(id);\n",
              "      // Send a message to notify the kernel that we're ready.\n",
              "      channel.send({})\n",
              "\n",
              "      for await (const message of channel.messages) {\n",
              "        // Send a message to notify the kernel that we're ready.\n",
              "        channel.send({})\n",
              "        if (message.buffers) {\n",
              "          for (const buffer of message.buffers) {\n",
              "            buffers.push(buffer);\n",
              "            downloaded += buffer.byteLength;\n",
              "            progress.value = downloaded;\n",
              "          }\n",
              "        }\n",
              "      }\n",
              "      const blob = new Blob(buffers, {type: 'application/binary'});\n",
              "      const a = document.createElement('a');\n",
              "      a.href = window.URL.createObjectURL(blob);\n",
              "      a.download = filename;\n",
              "      div.appendChild(a);\n",
              "      a.click();\n",
              "      div.remove();\n",
              "    }\n",
              "  "
            ]
          },
          "metadata": {}
        },
        {
          "output_type": "display_data",
          "data": {
            "text/plain": [
              "<IPython.core.display.Javascript object>"
            ],
            "application/javascript": [
              "download(\"download_b4870fb8-3d41-4559-8019-155c1c501735\", \"students_transcripts.json\", 6129975)"
            ]
          },
          "metadata": {}
        }
      ]
    }
  ]
}